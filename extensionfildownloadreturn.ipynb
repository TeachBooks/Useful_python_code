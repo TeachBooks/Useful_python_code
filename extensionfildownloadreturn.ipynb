{
 "cells": [
  {
   "cell_type": "markdown",
   "metadata": {},
   "source": [
    "# Extensionchecker, filedownloader and figreturner\n",
    "\n",
    "> This page reuses BSD 3-Clause License content from {cite:t}`useful_code`. {fa}`quote-left`{ref}`Find out more here.<external_resources>`\n"
   ]
  },
  {
   "cell_type": "markdown",
   "metadata": {},
   "source": [
    "(extensionchecker)=\n",
    "# Extensionchecker\n",
    "This code walks through a specified folder and all subfolders to identify the kind of files that are present. It returns the extensions."
   ]
  },
  {
   "cell_type": "code",
   "execution_count": null,
   "metadata": {},
   "outputs": [],
   "source": [
    "# Extensionchecker: A script that checks what kind of files are in a folder and its subfolder\n",
    "\n",
    "import os\n",
    "\n",
    "directory = '..'\n",
    "\n",
    "def find_file_extensions(directory):\n",
    "    extensions = set()  # Used to exclude duplicates\n",
    "    # Iterate over all files in the specified folder\n",
    "    for root, dirs, files in os.walk(directory):\n",
    "        for file in files:\n",
    "            _, ext = os.path.splitext(file)  # Splits the filename to extract the extension\n",
    "            if ext:  # Check whether the extension already exists\n",
    "                extensions.add(ext.lower())  # Adds the extension and uses lowercase\n",
    "    return print(extensions)\n",
    "\n",
    "find_file_extensions(directory)\n",
    "\n"
   ]
  },
  {
   "cell_type": "markdown",
   "metadata": {},
   "source": [
    "(Filedownloader)=\n",
    "# Filedownloader\n",
    "\n",
    "Code searches for specified extensions and returns them as a downloadlink for markdown"
   ]
  },
  {
   "cell_type": "code",
   "execution_count": null,
   "metadata": {},
   "outputs": [],
   "source": [
    "# Filedownloader: A script that searches for specified extensions and returns them as a downloadlink for markdown\n",
    "\n",
    "import os\n",
    "from urllib.parse import quote\n",
    "\n",
    "directory = '..'\n",
    "\n",
    "def find_files(directory):\n",
    "    markdown_links = []\n",
    "    # Loop door de directory en alle subdirectories\n",
    "    for root, dirs, files in os.walk(directory):\n",
    "        for file in files:\n",
    "            if file.endswith((\".pdf\", \".jpg\", \".docx\", )):\n",
    "                # Creëer het volledige pad naar het bestand\n",
    "                full_path = os.path.join(root, file)\n",
    "                # Converteer het pad naar een relatief pad (verwijder de opgegeven root directory uit het pad)\n",
    "                relative_path = os.path.relpath(full_path, directory)\n",
    "                # Encode het pad voor gebruik in URL\n",
    "                url_encoded_path = quote(relative_path)\n",
    "                # Formatteer het pad en de bestandsnaam als een Markdown link\n",
    "\n",
    "                \n",
    "                markdown_link = f\"[{file}]{url_encoded_path})\"\n",
    "                markdown_links.append(markdown_link)\n",
    "    return markdown_links\n",
    "\n",
    "# Stel de root directory in waar je wilt beginnen met zoeken naar PDFs\n",
    "links = find_files(directory)\n",
    "\n",
    "# Print alle gevonden Markdown links\n",
    "for link in links:\n",
    "    print(link)"
   ]
  },
  {
   "cell_type": "markdown",
   "metadata": {},
   "source": [
    "(figreturner)=\n",
    "# Figreturner\n",
    "A script that searches in a specified folder and all subfolders for figure files (jpg) and returns the code for figures in markdown."
   ]
  },
  {
   "cell_type": "code",
   "execution_count": null,
   "metadata": {},
   "outputs": [],
   "source": [
    "# Return figure for md\n",
    "# Note that you should replace %5C with / and %20 with space\n",
    "\n",
    "import os\n",
    "from urllib.parse import quote\n",
    "\n",
    "directory = '..'\n",
    "\n",
    "def find_jpg_files(directory):\n",
    "    markdown_links = []\n",
    "    # Loop door de directory en alle subdirectories\n",
    "    for root, dirs, files in os.walk(directory):\n",
    "        for file in files:\n",
    "            if file.endswith(\".jpg\"):\n",
    "                # Creëer het volledige pad naar het bestand\n",
    "                full_path = os.path.join(root, file)\n",
    "                # Converteer het pad naar een relatief pad (verwijder de opgegeven root directory uit het pad)\n",
    "                relative_path = os.path.relpath(full_path, directory)\n",
    "                # Encode the path for use in URL, preserving slashes and spaces\n",
    "                url_encoded_path = quote(relative_path, safe='/ ')\n",
    "                # Formatteer het pad en de bestandsnaam als een Markdown link\n",
    "\n",
    "                \n",
    "                markdown_link = f\"``` {directory}/{url_encoded_path} \\n--- \\nwidth: 50% \\n```\"\n",
    "                markdown_links.append(markdown_link)\n",
    "    return markdown_links\n",
    "\n",
    "# Stel de root directory in waar je wilt beginnen met zoeken naar PDFs\n",
    "pdf_links = find_jpg_files(directory)\n",
    "\n",
    "\n",
    "# Print alle gevonden Markdown links\n",
    "for figs in pdf_links:\n",
    "    print(figs)\n"
   ]
  }
 ],
 "metadata": {
  "language_info": {
   "name": "python"
  }
 },
 "nbformat": 4,
 "nbformat_minor": 2
}
