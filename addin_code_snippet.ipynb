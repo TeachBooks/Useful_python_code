{
 "cells": [
  {
   "cell_type": "markdown",
   "id": "499f34e2",
   "metadata": {},
   "source": [
    "# Useful code for Teachbooks\n",
    "\n",
    "Some actions need to be repeated multiple times, it then makes sense to automatise your work by using code. For instance, in one of our projects we had to search every folder and subfolder for pdf's and make a download link for a website. Here are some useful codes that we use.\n",
    "* [**Snippitall**](Snippitall) to insert the same code snippet at a certain point in each md file in a specific folder and all subfolder. \n",
    "* [**Snippitonce**](Snippitonce) to insert the same code snippet at a certain point in each md file only in a specific folder. \n",
    "* Title code 2 / description\n",
    "* Title code 3 / description\n"
   ]
  },
  {
   "cell_type": "markdown",
   "id": "f81c4167",
   "metadata": {},
   "source": [
    "(Snippitall)= \n",
    "## Snippitall\n",
    "This code inserts a code snippet (defined in code line 6) on a specified place for each md file in the directory of your choosing, including all subfolders."
   ]
  },
  {
   "cell_type": "code",
   "execution_count": null,
   "id": "dde434d5-8dbd-4fb6-a744-f1a500821ca1",
   "metadata": {},
   "outputs": [],
   "source": [
    "# Snippetall: code for adding code snippet in each md file in a specified directory including all subfolders\n",
    "import os\n",
    "\n",
    "# Specify the path to your base folder and line where snippet should be added\n",
    "directory = 'book/demos'\n",
    "include_at_line = 1\n",
    "\n",
    "def insert_code_in_md_files(directory):\n",
    "    # Define the code snippet to insert\n",
    "    code_snippet = \"\"\"\\n<div style=\"clear: both;\">\\n\\n```{figure} ../../figures/open.png\\n---\\nwidth: 35%\\nalign: right\\n```\\n\\n</div>\\n\"\"\"\n",
    "\n",
    "    # Walk through all directories and subdirectories\n",
    "    for dirpath, dirnames, filenames in os.walk(directory):\n",
    "        for filename in filenames:\n",
    "            if filename.endswith(\".md\"):  # Check if the file is a Markdown file\n",
    "                file_path = os.path.join(dirpath, filename)\n",
    "                \n",
    "                # Read the existing content of the file\n",
    "                with open(file_path, 'r', encoding='utf-8') as file:\n",
    "                    lines = file.readlines()\n",
    "                \n",
    "                # Insert the code snippet at the specified line\n",
    "                include_at_line = 1\n",
    "                if len(lines) > include_at_line:\n",
    "                    lines.insert(include_at_line, code_snippet)\n",
    "                else:  # If the file has less than two lines, append the snippet\n",
    "                    lines.append(code_snippet)\n",
    "                \n",
    "                # Write the modified content back to the file\n",
    "                with open(file_path, 'w', encoding='utf-8') as file:\n",
    "                    file.writelines(lines)\n",
    "                print(f\"Updated {file_path}\")\n",
    "\n",
    "\n",
    "insert_code_in_md_files(directory)\n"
   ]
  },
  {
   "cell_type": "markdown",
   "id": "8fcbaef5",
   "metadata": {},
   "source": [
    "(Snippitonce)=\n",
    "## Snippitonce\n",
    "This code inserts a code snippet (defined in code line 6) on a specified place for each md file in the directory of your choosing."
   ]
  },
  {
   "cell_type": "code",
   "execution_count": null,
   "id": "9ef71b79-3d37-476f-9228-1038198d365a",
   "metadata": {},
   "outputs": [],
   "source": [
    "# Snippitonce: code for adding code snippet in specific folder \n",
    "import os\n",
    "\n",
    "# Specify the path to your folder\n",
    "specific_folder = 'book/pedagogy'\n",
    "include_at_line = 1\n",
    "\n",
    "def insert_code_in_md_files(specific_folder):\n",
    "    # Define the code snippet to insert\n",
    "    code_snippet = \"\"\"\\n<div style=\"clear: both;\">\\n\\n```{figure} ../figures/confirmed.png\\n---\\nwidth: 35%\\nalign: right\\n```\\n\\n</div>\\n\"\"\"\n",
    "\n",
    "    # Iterate over all files in the specified folder\n",
    "    for filename in os.listdir(specific_folder):\n",
    "        if filename.endswith(\".md\"):  # Check if the file is a Markdown file\n",
    "            file_path = os.path.join(specific_folder, filename)\n",
    "            \n",
    "            # Read the existing content of the file\n",
    "            with open(file_path, 'r', encoding='utf-8') as file:\n",
    "                lines = file.readlines()\n",
    "            \n",
    "            # Insert the code snippet at the second line\n",
    "            if len(lines) > include_at_line:\n",
    "                lines.insert(include_at_line, code_snippet)\n",
    "            else:  # If the file has less than two lines, append the snippet\n",
    "                lines.append(code_snippet)\n",
    "            \n",
    "            # Write the modified content back to the file\n",
    "            with open(file_path, 'w', encoding='utf-8') as file:\n",
    "                file.writelines(lines)\n",
    "            print(f\"Updated {filename}\")\n",
    "\n",
    "insert_code_in_md_files(specific_folder)\n"
   ]
  },
  {
   "cell_type": "code",
   "execution_count": null,
   "id": "8bd8e0bc-ccb2-4519-a629-7e589fdcf783",
   "metadata": {},
   "outputs": [],
   "source": []
  }
 ],
 "metadata": {
  "kernelspec": {
   "display_name": "Python 3 (ipykernel)",
   "language": "python",
   "name": "python3"
  },
  "language_info": {
   "codemirror_mode": {
    "name": "ipython",
    "version": 3
   },
   "file_extension": ".py",
   "mimetype": "text/x-python",
   "name": "python",
   "nbconvert_exporter": "python",
   "pygments_lexer": "ipython3",
   "version": "3.9.16"
  }
 },
 "nbformat": 4,
 "nbformat_minor": 5
}
