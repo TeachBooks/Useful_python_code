{
 "cells": [
  {
   "cell_type": "code",
   "execution_count": null,
   "id": "dde434d5-8dbd-4fb6-a744-f1a500821ca1",
   "metadata": {},
   "outputs": [],
   "source": [
    "# code for adding code snippet in each folder and subfolder\n",
    "import os\n",
    "\n",
    "def insert_code_in_md_files(base_folder):\n",
    "    # Define the code snippet to insert\n",
    "    code_snippet = \"\"\"\\n<div style=\"clear: both;\">\\n\\n```{figure} ../../figures/open.png\\n---\\nwidth: 35%\\nalign: right\\n```\\n\\n</div>\\n\"\"\"\n",
    "\n",
    "    # Walk through all directories and subdirectories\n",
    "    for dirpath, dirnames, filenames in os.walk(base_folder):\n",
    "        for filename in filenames:\n",
    "            if filename.endswith(\".md\"):  # Check if the file is a Markdown file\n",
    "                file_path = os.path.join(dirpath, filename)\n",
    "                \n",
    "                # Read the existing content of the file\n",
    "                with open(file_path, 'r', encoding='utf-8') as file:\n",
    "                    lines = file.readlines()\n",
    "                \n",
    "                # Insert the code snippet at the second line\n",
    "                if len(lines) > 1:\n",
    "                    lines.insert(1, code_snippet)\n",
    "                else:  # If the file has less than two lines, append the snippet\n",
    "                    lines.append(code_snippet)\n",
    "                \n",
    "                # Write the modified content back to the file\n",
    "                with open(file_path, 'w', encoding='utf-8') as file:\n",
    "                    file.writelines(lines)\n",
    "                print(f\"Updated {file_path}\")\n",
    "\n",
    "# Specify the path to your base folder\n",
    "base_folder = 'book/demos'\n",
    "insert_code_in_md_files(base_folder)\n"
   ]
  },
  {
   "cell_type": "code",
   "execution_count": null,
   "id": "9ef71b79-3d37-476f-9228-1038198d365a",
   "metadata": {},
   "outputs": [],
   "source": [
    "# code for adding code snippet in specific folder \n",
    "import os\n",
    "\n",
    "def insert_code_in_md_files(folder_path):\n",
    "    # Define the code snippet to insert\n",
    "    code_snippet = \"\"\"\\n<div style=\"clear: both;\">\\n\\n```{figure} ../figures/confirmed.png\\n---\\nwidth: 35%\\nalign: right\\n```\\n\\n</div>\\n\"\"\"\n",
    "\n",
    "    # Iterate over all files in the specified folder\n",
    "    for filename in os.listdir(folder_path):\n",
    "        if filename.endswith(\".md\"):  # Check if the file is a Markdown file\n",
    "            file_path = os.path.join(folder_path, filename)\n",
    "            \n",
    "            # Read the existing content of the file\n",
    "            with open(file_path, 'r', encoding='utf-8') as file:\n",
    "                lines = file.readlines()\n",
    "            \n",
    "            # Insert the code snippet at the second line\n",
    "            if len(lines) > 1:\n",
    "                lines.insert(1, code_snippet)\n",
    "            else:  # If the file has less than two lines, append the snippet\n",
    "                lines.append(code_snippet)\n",
    "            \n",
    "            # Write the modified content back to the file\n",
    "            with open(file_path, 'w', encoding='utf-8') as file:\n",
    "                file.writelines(lines)\n",
    "            print(f\"Updated {filename}\")\n",
    "\n",
    "# Specify the path to your folder\n",
    "folder_path = 'book/pedagogy'\n",
    "insert_code_in_md_files(folder_path)\n"
   ]
  },
  {
   "cell_type": "code",
   "execution_count": null,
   "id": "8bd8e0bc-ccb2-4519-a629-7e589fdcf783",
   "metadata": {},
   "outputs": [],
   "source": []
  }
 ],
 "metadata": {
  "kernelspec": {
   "display_name": "Python 3 (ipykernel)",
   "language": "python",
   "name": "python3"
  },
  "language_info": {
   "codemirror_mode": {
    "name": "ipython",
    "version": 3
   },
   "file_extension": ".py",
   "mimetype": "text/x-python",
   "name": "python",
   "nbconvert_exporter": "python",
   "pygments_lexer": "ipython3",
   "version": "3.9.16"
  }
 },
 "nbformat": 4,
 "nbformat_minor": 5
}
