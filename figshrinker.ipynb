{
 "cells": [
  {
   "cell_type": "markdown",
   "metadata": {},
   "source": [
    "# Figshrinker"
   ]
  },
  {
   "cell_type": "code",
   "execution_count": null,
   "metadata": {},
   "outputs": [],
   "source": [
    "# shrink file size of JPG\n",
    "# file zoekt naar jpg bestanden en comprimeert deze tot een gewenste formaat.\n",
    "\n",
    "from PIL import Image\n",
    "import os\n",
    "\n",
    "def compress_image(file_path, output_quality=50):\n",
    "    \"\"\" Compress the image by changing its quality. \"\"\"\n",
    "    picture = Image.open(file_path)\n",
    "    # You can also resize the image if needed using picture.resize()\n",
    "    picture.save(file_path, \"JPEG\", optimize=True, quality=output_quality)\n",
    "\n",
    "def find_and_compress_images(directory, max_size=1.5*1024*1024):\n",
    "    \"\"\" Find all jpg files exceeding max_size and compress them. \"\"\"\n",
    "    for root, dirs, files in os.walk(directory):\n",
    "        for file in files:\n",
    "            if file.lower().endswith(\".jpg\"):\n",
    "                full_path = os.path.join(root, file)\n",
    "                if os.path.getsize(full_path) > max_size:\n",
    "                    print(f\"Compressing: {full_path}\")\n",
    "                    compress_image(full_path)\n",
    "\n",
    "# Specify the root directory to start from\n",
    "root_directory = 'I:/Book/2023'\n",
    "find_and_compress_images(root_directory)\n"
   ]
  }
 ],
 "metadata": {
  "language_info": {
   "name": "python"
  }
 },
 "nbformat": 4,
 "nbformat_minor": 2
}
