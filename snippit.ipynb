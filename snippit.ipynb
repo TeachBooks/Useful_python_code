{
 "cells": [
  {
   "cell_type": "markdown",
   "metadata": {},
   "source": [
    "# Snippit\n",
    "\n",
    "> This page reuses BSD 3-Clause License content from {cite:t}`useful_code`. {fa}`quote-left`{ref}`Find out more here.<external_resources>`"
   ]
  },
  {
   "cell_type": "markdown",
   "metadata": {},
   "source": [
    "(Snippitall)= \n",
    "## Snippitall\n",
    "This code inserts a code snippet (defined in code line 6) on a specified place for each md file in the directory of your choosing, including all subfolders."
   ]
  },
  {
   "cell_type": "code",
   "execution_count": null,
   "metadata": {},
   "outputs": [],
   "source": [
    "# Snippetall: code for adding code snippet in each md file in a specified directory including all subfolders\n",
    "import os\n",
    "\n",
    "# Specify the path to your base folder and line where snippet should be added\n",
    "directory = 'book/demos'\n",
    "include_at_line = 1\n",
    "\n",
    "def insert_code_in_md_files(directory):\n",
    "    # Define the code snippet to insert\n",
    "    code_snippet = \"\"\"\\n<div style=\"clear: both;\">\\n\\n```{figure} ../../figures/open.png\\n---\\nwidth: 35%\\nalign: right\\n```\\n\\n</div>\\n\"\"\"\n",
    "\n",
    "    # Walk through all directories and subdirectories\n",
    "    for dirpath, dirnames, filenames in os.walk(directory):\n",
    "        for filename in filenames:\n",
    "            if filename.endswith(\".md\"):  # Check if the file is a Markdown file\n",
    "                file_path = os.path.join(dirpath, filename)\n",
    "                \n",
    "                # Read the existing content of the file\n",
    "                with open(file_path, 'r', encoding='utf-8') as file:\n",
    "                    lines = file.readlines()\n",
    "                \n",
    "                # Insert the code snippet at the specified line\n",
    "                include_at_line = 1\n",
    "                if len(lines) > include_at_line:\n",
    "                    lines.insert(include_at_line, code_snippet)\n",
    "                else:  # If the file has less than two lines, append the snippet\n",
    "                    lines.append(code_snippet)\n",
    "                \n",
    "                # Write the modified content back to the file\n",
    "                with open(file_path, 'w', encoding='utf-8') as file:\n",
    "                    file.writelines(lines)\n",
    "                print(f\"Updated {file_path}\")\n",
    "\n",
    "\n",
    "insert_code_in_md_files(directory)\n"
   ]
  },
  {
   "cell_type": "markdown",
   "metadata": {},
   "source": [
    "(Snippitonce)=\n",
    "## Snippitonce\n",
    "This code inserts a code snippet (defined in code line 6) on a specified place for each md file in the directory of your choosing."
   ]
  },
  {
   "cell_type": "code",
   "execution_count": null,
   "metadata": {},
   "outputs": [],
   "source": [
    "# Snippitonce: code for adding code snippet in specific folder \n",
    "import os\n",
    "\n",
    "# Specify the path to your folder\n",
    "specific_folder = 'book/pedagogy'\n",
    "include_at_line = 1\n",
    "\n",
    "def insert_code_in_md_files(specific_folder):\n",
    "    # Define the code snippet to insert\n",
    "    code_snippet = \"\"\"\\n<div style=\"clear: both;\">\\n\\n```{figure} ../figures/confirmed.png\\n---\\nwidth: 35%\\nalign: right\\n```\\n\\n</div>\\n\"\"\"\n",
    "\n",
    "    # Iterate over all files in the specified folder\n",
    "    for filename in os.listdir(specific_folder):\n",
    "        if filename.endswith(\".md\"):  # Check if the file is a Markdown file\n",
    "            file_path = os.path.join(specific_folder, filename)\n",
    "            \n",
    "            # Read the existing content of the file\n",
    "            with open(file_path, 'r', encoding='utf-8') as file:\n",
    "                lines = file.readlines()\n",
    "            \n",
    "            # Insert the code snippet at the second line\n",
    "            if len(lines) > include_at_line:\n",
    "                lines.insert(include_at_line, code_snippet)\n",
    "            else:  # If the file has less than two lines, append the snippet\n",
    "                lines.append(code_snippet)\n",
    "            \n",
    "            # Write the modified content back to the file\n",
    "            with open(file_path, 'w', encoding='utf-8') as file:\n",
    "                file.writelines(lines)\n",
    "            print(f\"Updated {filename}\")\n",
    "\n",
    "insert_code_in_md_files(specific_folder)\n"
   ]
  }
 ],
 "metadata": {
  "language_info": {
   "name": "python"
  }
 },
 "nbformat": 4,
 "nbformat_minor": 2
}
